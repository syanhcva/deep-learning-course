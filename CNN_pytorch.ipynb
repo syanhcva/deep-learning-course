{
 "cells": [
  {
   "cell_type": "code",
   "execution_count": 10,
   "metadata": {},
   "outputs": [],
   "source": [
    "import torch\n",
    "import torch.nn as nn\n",
    "import torch.optim as optim\n",
    "import torch.nn.functional as F\n",
    "import numpy as np\n",
    "import matplotlib.pyplot as plt\n",
    "import time\n",
    "import cv2\n",
    "\n",
    "%matplotlib inline"
   ]
  },
  {
   "cell_type": "code",
   "execution_count": 2,
   "metadata": {},
   "outputs": [],
   "source": [
    "class Net(nn.Module):\n",
    "    def __init__(self):\n",
    "        super(Net, self).__init__()\n",
    "        self.conv1 = nn.Conv2d(1, 32, 3, padding=1)\n",
    "        self.conv2 = nn.Conv2d(32, 64, 3, padding=1)\n",
    "        self.pool = nn.MaxPool2d((2,2))\n",
    "        # self.pool2 = nn.MaxPool2d((2,2))\n",
    "        self.dropout = nn.Dropout(0.5)\n",
    "        self.fc1 = nn.Linear(7*7*64, 128)\n",
    "        self.fc2 = nn.Linear(128, 10)\n",
    "\n",
    "    def forward(self, x):\n",
    "        x = self.conv1(x) #28x28x1 => 28x28x32\n",
    "        x = self.pool(F.relu(x)) #14x14x32\n",
    "        x = self.dropout(x)\n",
    "        x = self.conv2(x) #14x14x64\n",
    "        x = self.pool(F.relu(x)) #7x7x64\n",
    "        x = self.dropout(x)\n",
    "        x = x.view(-1, 64*7*7) #flatten\n",
    "        x = F.relu(self.fc1(x)) #512\n",
    "        x = self.fc2(x) #128\n",
    "        # x = F.log_softmax(x, dim=1)\n",
    "        return x"
   ]
  },
  {
   "cell_type": "code",
   "execution_count": 3,
   "metadata": {},
   "outputs": [
    {
     "name": "stdout",
     "output_type": "stream",
     "text": [
      "CNN:  Net(\n",
      "  (conv1): Conv2d(1, 32, kernel_size=(3, 3), stride=(1, 1), padding=(1, 1))\n",
      "  (conv2): Conv2d(32, 64, kernel_size=(3, 3), stride=(1, 1), padding=(1, 1))\n",
      "  (pool): MaxPool2d(kernel_size=(2, 2), stride=(2, 2), padding=0, dilation=1, ceil_mode=False)\n",
      "  (dropout): Dropout(p=0.5, inplace=False)\n",
      "  (fc1): Linear(in_features=3136, out_features=128, bias=True)\n",
      "  (fc2): Linear(in_features=128, out_features=10, bias=True)\n",
      ")\n",
      "\n",
      "output:  tensor([[-0.5345,  0.2888, -0.1333, -0.2741,  0.7446, -0.4844, -0.0769,  0.0993,\n",
      "          0.0646, -0.1727]], grad_fn=<AddmmBackward>)\n",
      "\n",
      "grads before backward is None: True\n",
      "\n",
      "grads after backward:\n",
      "tensor([[[-0.0292,  0.0660, -0.0773],\n",
      "         [ 0.0562,  0.5507, -0.0159],\n",
      "         [-0.1440,  0.1372, -0.1781]]])\n"
     ]
    }
   ],
   "source": [
    "cnn = Net()\n",
    "print(\"CNN: \", cnn)\n",
    "print()\n",
    "\n",
    "torch.manual_seed(0)\n",
    "mini_batch = 1\n",
    "input = torch.randn(mini_batch, 1, 28, 28, requires_grad=True)\n",
    "out = cnn(input)\n",
    "print(\"output: \", out)\n",
    "print()\n",
    "# criterion = nn.CrossEntropyLoss()\n",
    "print(\"grads before backward is None:\", list(cnn.parameters())[0].grad is None)\n",
    "print()\n",
    "cnn.zero_grad()\n",
    "out.backward(torch.ones(mini_batch,10))\n",
    "\n",
    "print(\"grads after backward:\")\n",
    "print(list(cnn.parameters())[0].grad[0])"
   ]
  },
  {
   "cell_type": "code",
   "execution_count": 4,
   "metadata": {},
   "outputs": [
    {
     "name": "stdout",
     "output_type": "stream",
     "text": [
      "Downloading http://yann.lecun.com/exdb/mnist/train-images-idx3-ubyte.gz to ../data_mnist\\MNIST\\raw\\train-images-idx3-ubyte.gz\n"
     ]
    },
    {
     "name": "stderr",
     "output_type": "stream",
     "text": [
      "9920512it [00:03, 2500396.95it/s]                                                                                      \n"
     ]
    },
    {
     "name": "stdout",
     "output_type": "stream",
     "text": [
      "Extracting ../data_mnist\\MNIST\\raw\\train-images-idx3-ubyte.gz to ../data_mnist\\MNIST\\raw\n",
      "Downloading http://yann.lecun.com/exdb/mnist/train-labels-idx1-ubyte.gz to ../data_mnist\\MNIST\\raw\\train-labels-idx1-ubyte.gz\n"
     ]
    },
    {
     "name": "stderr",
     "output_type": "stream",
     "text": [
      "32768it [00:00, 45037.00it/s]                                                                                          \n"
     ]
    },
    {
     "name": "stdout",
     "output_type": "stream",
     "text": [
      "Extracting ../data_mnist\\MNIST\\raw\\train-labels-idx1-ubyte.gz to ../data_mnist\\MNIST\\raw\n",
      "Downloading http://yann.lecun.com/exdb/mnist/t10k-images-idx3-ubyte.gz to ../data_mnist\\MNIST\\raw\\t10k-images-idx3-ubyte.gz\n"
     ]
    },
    {
     "name": "stderr",
     "output_type": "stream",
     "text": [
      "1654784it [00:03, 543067.03it/s]                                                                                       \n"
     ]
    },
    {
     "name": "stdout",
     "output_type": "stream",
     "text": [
      "Extracting ../data_mnist\\MNIST\\raw\\t10k-images-idx3-ubyte.gz to ../data_mnist\\MNIST\\raw\n",
      "Downloading http://yann.lecun.com/exdb/mnist/t10k-labels-idx1-ubyte.gz to ../data_mnist\\MNIST\\raw\\t10k-labels-idx1-ubyte.gz\n"
     ]
    },
    {
     "name": "stderr",
     "output_type": "stream",
     "text": [
      "8192it [00:00, 17341.45it/s]                                                                                           \n"
     ]
    },
    {
     "name": "stdout",
     "output_type": "stream",
     "text": [
      "Extracting ../data_mnist\\MNIST\\raw\\t10k-labels-idx1-ubyte.gz to ../data_mnist\\MNIST\\raw\n",
      "Processing...\n",
      "Done!\n"
     ]
    }
   ],
   "source": [
    "import torchvision\n",
    "import torchvision.transforms as transforms\n",
    "\n",
    "batch_size = 100\n",
    "train_loader = torch.utils.data.DataLoader(\n",
    "    torchvision.datasets.MNIST('../data_mnist', train=True, download=True,\n",
    "                    transform=transforms.Compose([\n",
    "                        transforms.ToTensor(),\n",
    "                        transforms.Normalize((0.1307,), (0.3081,))\n",
    "                    ])),\n",
    "    batch_size=batch_size, shuffle=True)\n",
    "\n",
    "\n",
    "test_loader = torch.utils.data.DataLoader(\n",
    "    torchvision.datasets.MNIST('../data_mnist', train=False, transform=transforms.Compose([\n",
    "                        transforms.ToTensor(),\n",
    "                        transforms.Normalize((0.1307,), (0.3081,))\n",
    "                    ])),\n",
    "    batch_size=10000, shuffle=True)"
   ]
  },
  {
   "cell_type": "code",
   "execution_count": 5,
   "metadata": {},
   "outputs": [],
   "source": [
    "def evaluate():\n",
    "    test_data, test_labels = list(test_loader)[0]\n",
    "    outputs = cnn(test_data)\n",
    "    y_pred = torch.argmax(outputs, 1)\n",
    "    accuracy = sum(test_labels == y_pred).item()/10000\n",
    "    return accuracy"
   ]
  },
  {
   "cell_type": "code",
   "execution_count": 6,
   "metadata": {},
   "outputs": [
    {
     "name": "stdout",
     "output_type": "stream",
     "text": [
      "currently at epochs 1, batch number 100, loss is 0.655, processing time: 12.8s\n",
      "currently at epochs 1, batch number 200, loss is 0.23, processing time: 12.39s\n",
      "currently at epochs 1, batch number 300, loss is 0.183, processing time: 12.56s\n",
      "currently at epochs 1, batch number 400, loss is 0.159, processing time: 12.43s\n",
      "currently at epochs 1, batch number 500, loss is 0.132, processing time: 12.64s\n",
      "currently at epochs 1, batch number 600, loss is 0.114, processing time: 12.99s\n",
      "end of epoch 0, accuracy is 0.9692%, processing time: 80.4s\n",
      "currently at epochs 2, batch number 100, loss is 0.102, processing time: 17.32s\n",
      "currently at epochs 2, batch number 200, loss is 0.098, processing time: 12.4s\n",
      "currently at epochs 2, batch number 300, loss is 0.099, processing time: 12.1s\n",
      "currently at epochs 2, batch number 400, loss is 0.083, processing time: 12.2s\n",
      "currently at epochs 2, batch number 500, loss is 0.08, processing time: 12.09s\n",
      "currently at epochs 2, batch number 600, loss is 0.084, processing time: 12.22s\n",
      "end of epoch 1, accuracy is 0.9724%, processing time: 158.26s\n",
      "currently at epochs 3, batch number 100, loss is 0.076, processing time: 16.4s\n",
      "currently at epochs 3, batch number 200, loss is 0.082, processing time: 12.26s\n",
      "currently at epochs 3, batch number 300, loss is 0.076, processing time: 12.31s\n",
      "currently at epochs 3, batch number 400, loss is 0.062, processing time: 12.06s\n",
      "currently at epochs 3, batch number 500, loss is 0.073, processing time: 12.59s\n",
      "currently at epochs 3, batch number 600, loss is 0.066, processing time: 12.42s\n",
      "end of epoch 2, accuracy is 0.9801%, processing time: 236.24s\n",
      "currently at epochs 4, batch number 100, loss is 0.058, processing time: 16.2s\n",
      "currently at epochs 4, batch number 200, loss is 0.058, processing time: 12.3s\n",
      "currently at epochs 4, batch number 300, loss is 0.064, processing time: 12.71s\n",
      "currently at epochs 4, batch number 400, loss is 0.053, processing time: 12.28s\n",
      "currently at epochs 4, batch number 500, loss is 0.057, processing time: 12.51s\n",
      "currently at epochs 4, batch number 600, loss is 0.06, processing time: 12.37s\n",
      "end of epoch 3, accuracy is 0.9812%, processing time: 314.63s\n",
      "currently at epochs 5, batch number 100, loss is 0.054, processing time: 16.11s\n",
      "currently at epochs 5, batch number 200, loss is 0.054, processing time: 12.07s\n",
      "currently at epochs 5, batch number 300, loss is 0.053, processing time: 12.08s\n",
      "currently at epochs 5, batch number 400, loss is 0.059, processing time: 12.05s\n",
      "currently at epochs 5, batch number 500, loss is 0.048, processing time: 12.08s\n",
      "currently at epochs 5, batch number 600, loss is 0.053, processing time: 12.2s\n",
      "end of epoch 4, accuracy is 0.9791%, processing time: 391.3s\n",
      "currently at epochs 6, batch number 100, loss is 0.049, processing time: 16.3s\n",
      "currently at epochs 6, batch number 200, loss is 0.053, processing time: 12.27s\n",
      "currently at epochs 6, batch number 300, loss is 0.046, processing time: 12.23s\n",
      "currently at epochs 6, batch number 400, loss is 0.049, processing time: 12.08s\n",
      "currently at epochs 6, batch number 500, loss is 0.044, processing time: 12.25s\n",
      "currently at epochs 6, batch number 600, loss is 0.053, processing time: 12.02s\n",
      "end of epoch 5, accuracy is 0.9821%, processing time: 468.39s\n",
      "currently at epochs 7, batch number 100, loss is 0.04, processing time: 16.02s\n",
      "currently at epochs 7, batch number 200, loss is 0.044, processing time: 12.06s\n",
      "currently at epochs 7, batch number 300, loss is 0.044, processing time: 12.17s\n",
      "currently at epochs 7, batch number 400, loss is 0.045, processing time: 12.31s\n",
      "currently at epochs 7, batch number 500, loss is 0.04, processing time: 12.05s\n",
      "currently at epochs 7, batch number 600, loss is 0.049, processing time: 12.23s\n",
      "end of epoch 6, accuracy is 0.984%, processing time: 545.35s\n",
      "currently at epochs 8, batch number 100, loss is 0.04, processing time: 16.35s\n",
      "currently at epochs 8, batch number 200, loss is 0.038, processing time: 12.26s\n",
      "currently at epochs 8, batch number 300, loss is 0.04, processing time: 12.59s\n",
      "currently at epochs 8, batch number 400, loss is 0.046, processing time: 12.32s\n",
      "currently at epochs 8, batch number 500, loss is 0.04, processing time: 13.36s\n",
      "currently at epochs 8, batch number 600, loss is 0.04, processing time: 12.6s\n",
      "end of epoch 7, accuracy is 0.9817%, processing time: 624.99s\n",
      "currently at epochs 9, batch number 100, loss is 0.034, processing time: 16.71s\n",
      "currently at epochs 9, batch number 200, loss is 0.037, processing time: 12.01s\n",
      "currently at epochs 9, batch number 300, loss is 0.038, processing time: 12.39s\n",
      "currently at epochs 9, batch number 400, loss is 0.033, processing time: 12.3s\n",
      "currently at epochs 9, batch number 500, loss is 0.036, processing time: 12.33s\n",
      "currently at epochs 9, batch number 600, loss is 0.042, processing time: 12.2s\n",
      "end of epoch 8, accuracy is 0.9841%, processing time: 702.63s\n",
      "currently at epochs 10, batch number 100, loss is 0.027, processing time: 16.36s\n",
      "currently at epochs 10, batch number 200, loss is 0.039, processing time: 12.47s\n",
      "currently at epochs 10, batch number 300, loss is 0.028, processing time: 12.07s\n",
      "currently at epochs 10, batch number 400, loss is 0.037, processing time: 12.37s\n",
      "currently at epochs 10, batch number 500, loss is 0.045, processing time: 11.98s\n",
      "currently at epochs 10, batch number 600, loss is 0.036, processing time: 12.14s\n",
      "end of epoch 9, accuracy is 0.9851%, processing time: 780.18s\n"
     ]
    }
   ],
   "source": [
    "# batch_size = 100\n",
    "# iter_per_epochs = int(train_size/batch_size)\n",
    "tic = time.time()\n",
    "toc = time.time()\n",
    "losses = []\n",
    "criterion = nn.CrossEntropyLoss()\n",
    "optimizer = optim.Adam(cnn.parameters())\n",
    "# optimizer = optim.SGD(cnn.parameters(), lr=3e-4, momentum=0.9)\n",
    "for epoch in range(10):\n",
    "    current_loss = 0\n",
    "    for i, data in enumerate(train_loader):\n",
    "        inputs, labels = data\n",
    "\n",
    "        optimizer.zero_grad()    \n",
    "        outputs = cnn(inputs)\n",
    "        loss = criterion(outputs, labels)\n",
    "        loss.backward()\n",
    "        optimizer.step()\n",
    "\n",
    "        current_loss += loss.item()\n",
    "        losses.append(loss.item())\n",
    "        if i%100 == 99:\n",
    "            print(\"currently at epochs {}, batch number {}, loss is {}, processing time: {}s\".format(epoch+1, i+1, round(current_loss/100, 3), round(time.time()-tic, 2)))\n",
    "            current_loss = 0\n",
    "            tic = time.time()\n",
    "    accuracy = evaluate()\n",
    "    print(\"end of epoch {}, accuracy is {}%, processing time: {}s\".format(epoch+1, accuracy, round(time.time()-toc, 2)))"
   ]
  },
  {
   "cell_type": "code",
   "execution_count": 7,
   "metadata": {},
   "outputs": [
    {
     "data": {
      "text/plain": [
       "[<matplotlib.lines.Line2D at 0x20f9118c438>]"
      ]
     },
     "execution_count": 7,
     "metadata": {},
     "output_type": "execute_result"
    },
    {
     "data": {
      "image/png": "[encoded data removed]",
      "text/plain": [
       "<Figure size 432x288 with 1 Axes>"
      ]
     },
     "metadata": {
      "needs_background": "light"
     },
     "output_type": "display_data"
    }
   ],
   "source": [
    "plt.plot(losses)"
   ]
  },
  {
   "cell_type": "code",
   "execution_count": 8,
   "metadata": {},
   "outputs": [],
   "source": [
    "def predict_image(path):\n",
    "    img = cv2.imread(path)\n",
    "    img = cv2.cvtColor(img, cv2.COLOR_BGR2GRAY)\n",
    "    img = cv2.resize(img, (28, 28))\n",
    "    plt.imshow(img, cmap=\"gray\")\n",
    "    plt.show()\n",
    "    trans_img = transforms.Compose([transforms.ToTensor(), transforms.Normalize((0.1307,), (0.3081,))])(img)\n",
    "    output = cnn(trans_img.view(1,1,28,28))\n",
    "    pred = torch.argmax(output, 1).item()\n",
    "    return pred"
   ]
  },
  {
   "cell_type": "code",
   "execution_count": 11,
   "metadata": {
    "scrolled": false
   },
   "outputs": [
    {
     "data": {
      "image/png": "[encoded data removed]",
      "text/plain": [
       "<Figure size 432x288 with 1 Axes>"
      ]
     },
     "metadata": {
      "needs_background": "light"
     },
     "output_type": "display_data"
    },
    {
     "name": "stdout",
     "output_type": "stream",
     "text": [
      "Predicted as 0\n",
      "=================================\n"
     ]
    },
    {
     "data": {
      "image/png": "[encoded data removed]",
      "text/plain": [
       "<Figure size 432x288 with 1 Axes>"
      ]
     },
     "metadata": {
      "needs_background": "light"
     },
     "output_type": "display_data"
    },
    {
     "name": "stdout",
     "output_type": "stream",
     "text": [
      "Predicted as 1\n",
      "=================================\n"
     ]
    },
    {
     "data": {
      "image/png": "[encoded data removed]",
      "text/plain": [
       "<Figure size 432x288 with 1 Axes>"
      ]
     },
     "metadata": {
      "needs_background": "light"
     },
     "output_type": "display_data"
    },
    {
     "name": "stdout",
     "output_type": "stream",
     "text": [
      "Predicted as 2\n",
      "=================================\n"
     ]
    },
    {
     "data": {
      "image/png": "[encoded data removed]",
      "text/plain": [
       "<Figure size 432x288 with 1 Axes>"
      ]
     },
     "metadata": {
      "needs_background": "light"
     },
     "output_type": "display_data"
    },
    {
     "name": "stdout",
     "output_type": "stream",
     "text": [
      "Predicted as 3\n",
      "=================================\n"
     ]
    },
    {
     "data": {
      "image/png": "[encoded data removed]",
      "text/plain": [
       "<Figure size 432x288 with 1 Axes>"
      ]
     },
     "metadata": {
      "needs_background": "light"
     },
     "output_type": "display_data"
    },
    {
     "name": "stdout",
     "output_type": "stream",
     "text": [
      "Predicted as 4\n",
      "=================================\n"
     ]
    },
    {
     "data": {
      "image/png": "[encoded data removed]",
      "text/plain": [
       "<Figure size 432x288 with 1 Axes>"
      ]
     },
     "metadata": {
      "needs_background": "light"
     },
     "output_type": "display_data"
    },
    {
     "name": "stdout",
     "output_type": "stream",
     "text": [
      "Predicted as 5\n",
      "=================================\n"
     ]
    },
    {
     "data": {
      "image/png": "[encoded data removed]",
      "text/plain": [
       "<Figure size 432x288 with 1 Axes>"
      ]
     },
     "metadata": {
      "needs_background": "light"
     },
     "output_type": "display_data"
    },
    {
     "name": "stdout",
     "output_type": "stream",
     "text": [
      "Predicted as 6\n",
      "=================================\n"
     ]
    },
    {
     "data": {
      "image/png": "[encoded data removed]",
      "text/plain": [
       "<Figure size 432x288 with 1 Axes>"
      ]
     },
     "metadata": {
      "needs_background": "light"
     },
     "output_type": "display_data"
    },
    {
     "name": "stdout",
     "output_type": "stream",
     "text": [
      "Predicted as 3\n",
      "=================================\n"
     ]
    },
    {
     "data": {
      "image/png": "[encoded data removed]",
      "text/plain": [
       "<Figure size 432x288 with 1 Axes>"
      ]
     },
     "metadata": {
      "needs_background": "light"
     },
     "output_type": "display_data"
    },
    {
     "name": "stdout",
     "output_type": "stream",
     "text": [
      "Predicted as 3\n",
      "=================================\n"
     ]
    },
    {
     "data": {
      "image/png": "[encoded data removed]",
      "text/plain": [
       "<Figure size 432x288 with 1 Axes>"
      ]
     },
     "metadata": {
      "needs_background": "light"
     },
     "output_type": "display_data"
    },
    {
     "name": "stdout",
     "output_type": "stream",
     "text": [
      "Predicted as 9\n",
      "=================================\n"
     ]
    }
   ],
   "source": [
    "for i in range(10):\n",
    "    path = \"test_paint/\" + str(i) + \".jpeg\"\n",
    "    prediction = predict_image(path)\n",
    "    print(\"Predicted as\", prediction)\n",
    "    print(\"=================================\")"
   ]
  },
  {
   "cell_type": "code",
   "execution_count": 21,
   "metadata": {},
   "outputs": [],
   "source": [
    "# save the model into disk\n",
    "torch.save(cnn, \"models/CNN_torch/model\")"
   ]
  },
  {
   "cell_type": "code",
   "execution_count": 24,
   "metadata": {},
   "outputs": [
    {
     "data": {
      "text/plain": [
       "Net(\n",
       "  (conv1): Conv2d(1, 32, kernel_size=(3, 3), stride=(1, 1), padding=(1, 1))\n",
       "  (conv2): Conv2d(32, 64, kernel_size=(3, 3), stride=(1, 1), padding=(1, 1))\n",
       "  (pool): MaxPool2d(kernel_size=(2, 2), stride=(2, 2), padding=0, dilation=1, ceil_mode=False)\n",
       "  (dropout): Dropout(p=0.5, inplace=False)\n",
       "  (fc1): Linear(in_features=3136, out_features=128, bias=True)\n",
       "  (fc2): Linear(in_features=128, out_features=10, bias=True)\n",
       ")"
      ]
     },
     "execution_count": 24,
     "metadata": {},
     "output_type": "execute_result"
    }
   ],
   "source": [
    "# load the trained model\n",
    "model = torch.load(\"models/CNN_torch/model\")\n",
    "model"
   ]
  },
  {
   "cell_type": "code",
   "execution_count": null,
   "metadata": {},
   "outputs": [],
   "source": []
  }
 ],
 "metadata": {
  "kernelspec": {
   "display_name": "Python 3",
   "language": "python",
   "name": "python3"
  },
  "language_info": {
   "codemirror_mode": {
    "name": "ipython",
    "version": 3
   },
   "file_extension": ".py",
   "mimetype": "text/x-python",
   "name": "python",
   "nbconvert_exporter": "python",
   "pygments_lexer": "ipython3",
   "version": "3.7.3"
  }
 },
 "nbformat": 4,
 "nbformat_minor": 2
}
